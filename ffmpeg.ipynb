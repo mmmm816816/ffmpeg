{
  "cells": [
    {
      "cell_type": "markdown",
      "metadata": {
        "id": "swjHs4YfpyIx"
      },
      "source": [
        "# Libraries"
      ]
    },
    {
      "cell_type": "code",
      "execution_count": null,
      "metadata": {
        "colab": {
          "base_uri": "https://localhost:8080/"
        },
        "id": "FtRhe0YUYrpg",
        "outputId": "5219edb4-a4cc-42bf-b84f-7e910e7a2dda"
      },
      "outputs": [],
      "source": [
        "!apt install ffmpeg"
      ]
    },
    {
      "cell_type": "code",
      "execution_count": null,
      "metadata": {
        "colab": {
          "base_uri": "https://localhost:8080/"
        },
        "id": "zlbVO9acJFVp",
        "outputId": "ea99613e-4d98-444f-d0c1-53db1db95449"
      },
      "outputs": [],
      "source": [
        "#pip install python-ffmpeg"
      ]
    },
    {
      "cell_type": "code",
      "execution_count": 2,
      "metadata": {
        "id": "ptjEmFPAJNVs"
      },
      "outputs": [],
      "source": [
        "#import ffmpeg\n",
        "import cv2\n",
        "import os\n",
        "import numpy as np\n",
        "import plotly.express as px\n",
        "from plotly.subplots import make_subplots\n",
        "import plotly.graph_objects as go"
      ]
    },
    {
      "attachments": {},
      "cell_type": "markdown",
      "metadata": {
        "id": "J7AjIkG3uCp8"
      },
      "source": [
        "# Folders & Files"
      ]
    },
    {
      "cell_type": "code",
      "execution_count": 3,
      "metadata": {
        "id": "935tr1VPWOjR"
      },
      "outputs": [],
      "source": [
        "mkdir exported"
      ]
    },
    {
      "cell_type": "code",
      "execution_count": 17,
      "metadata": {
        "id": "2kFtfI2Jlp_L"
      },
      "outputs": [],
      "source": [
        "!rm ./exported/*.png\n",
        "#rm exported/*.jpg"
      ]
    },
    {
      "attachments": {},
      "cell_type": "markdown",
      "metadata": {
        "id": "iN1yHATAunJn"
      },
      "source": [
        "# Image Processing"
      ]
    },
    {
      "cell_type": "markdown",
      "metadata": {
        "id": "4UXV-y5DKF1-"
      },
      "source": [
        "DVD: 420x720\n",
        "\n",
        "720p: 720x1280\n",
        "\n",
        "1080p: 1080x1920\n",
        "\n",
        "4K: 2160x3840\n",
        "\n",
        "8K: 4320x7680"
      ]
    },
    {
      "cell_type": "code",
      "execution_count": 18,
      "metadata": {
        "id": "b-uofgRTsWs7"
      },
      "outputs": [],
      "source": [
        "# Master\n",
        "'''\n",
        "(height, width)\n",
        "  = (480, 720)\n",
        "  = (720, 1280)\n",
        "  = (1080, 1920)\n",
        "  = (1440, 2560)\n",
        "  = (1920, 2880) # Surface\n",
        "  = (2160, 3840)\n",
        "  = (4320, 7680)\n",
        "'''\n",
        "\n",
        "height = 4320 #2160 #480\n",
        "width = 7680 #3840 #720\n",
        "\n",
        "hBand = 16\n",
        "\n",
        "unit = 2**13\n",
        "qty = int(2**16/unit) #2**(16-13)\n",
        "\n",
        "i = 0\n",
        "\n",
        "for stt in [0]: # [0, 1]\n",
        "  for b in [0] + [(i+1) * unit for i in range(qty)]:\n",
        "    for g in [0] + [(i+1) * unit for i in range(qty)]:\n",
        "      for r in [0] + [(i+1) * unit for i in range(qty)]:\n",
        "        hdr = np.zeros((height, width, 3), np.uint16)\n",
        "        hdr[:,:,:] = (2**16-1)*stt//1 # 0:shadow, 1:tint\n",
        "        if (b == 2**16 and (g == 0 or g == 2**16)) or \\\n",
        "          (g == 2**16 and (r == 0 or r == 2**16)) or \\\n",
        "          (r == 2**16 and (b == 0 or b == 2**16)) or \\\n",
        "          (b == 0 and g == 2**16) or \\\n",
        "          (g == 0 and r == 2**16) or \\\n",
        "          (r == 0 and b == 2**16):\n",
        "          for h in range(height):\n",
        "            for w in range(width):\n",
        "              if b != 0:\n",
        "                hdr[h, w, 0] = int(\n",
        "                    (b-1) / (hBand * width - 1) \n",
        "                    * (w + 1 + width * (h//(height//hBand)))\n",
        "                    )\n",
        "              if g != 0:\n",
        "                hdr[h, w, 1] = int(\n",
        "                    (g-1) / (hBand * width - 1) \n",
        "                    * (w + 1 + width * (h//(height//hBand)))\n",
        "                    )\n",
        "              if r != 0:\n",
        "                hdr[h, w, 2] = int(\n",
        "                    (r-1) / (hBand * width - 1) \n",
        "                    * (w + 1 + width * (h//(height//hBand)))\n",
        "                    )\n",
        "          #cv2.imwrite(f'exported/{stt}_b{b}g{g}r{r}_unit{unit}qty{qty}.png', hdr)\n",
        "          #cv2.imwrite('exported/%01d_b%05dg%05dr%05d_unit%05dqty%05d.png' % (stt, b, g, r, unit, qty), hdr)\n",
        "          cv2.imwrite('exported/%03d.png' % (i), hdr)\n",
        "          i += 1"
      ]
    },
    {
      "cell_type": "markdown",
      "metadata": {
        "id": "vZJr_iCQrkyQ"
      },
      "source": [
        "## Image to Video\n",
        "https://en.wikibooks.org/wiki/FFMPEG_An_Intermediate_Guide/image_sequence\n",
        "\n",
        "https://shotstack.io/learn/use-ffmpeg-to-convert-images-to-video/"
      ]
    },
    {
      "cell_type": "code",
      "execution_count": null,
      "metadata": {
        "colab": {
          "base_uri": "https://localhost:8080/"
        },
        "id": "teWPp2oangsa",
        "outputId": "953a6448-4542-49d4-e4c0-60befc41894e"
      },
      "outputs": [],
      "source": [
        "#master\n",
        "!ffmpeg \\\n",
        "  -y \\\n",
        "  -r 1 \\\n",
        "  -i ./exported/%03d.png \\\n",
        "  ./exported/image2video.mp4"
      ]
    },
    {
      "cell_type": "code",
      "execution_count": null,
      "metadata": {
        "colab": {
          "base_uri": "https://localhost:8080/"
        },
        "id": "CwCN6pMOxhKG",
        "outputId": "7e67cae2-696e-4397-d77c-be6531d88e2c"
      },
      "outputs": [],
      "source": [
        "#Master 100M\n",
        "# unable to hundle 8K image\n",
        "!ffmpeg \\\n",
        "  -y \\\n",
        "  -i ./exported/%03d.png \\\n",
        "  -pix_fmt yuv444p10le \\\n",
        "  -vb 100000k \\\n",
        "  ./exported/image2video_vb100M.mp4"
      ]
    },
    {
      "cell_type": "code",
      "execution_count": null,
      "metadata": {
        "colab": {
          "base_uri": "https://localhost:8080/"
        },
        "id": "hyMt37t8_oes",
        "outputId": "e1d5ff25-643a-4b3a-ff30-88e6929acb97"
      },
      "outputs": [],
      "source": [
        "# 1G bps\n",
        "!ffmpeg \\\n",
        "  -y \\\n",
        "  -i ./exported/%03d.png \\\n",
        "  -pix_fmt yuv444p10le \\\n",
        "  -vb 1000000k \\\n",
        "  ./exported/image2video_vb100M.mp4"
      ]
    },
    {
      "cell_type": "code",
      "execution_count": null,
      "metadata": {},
      "outputs": [],
      "source": [
        "!ffmpeg \\\n",
        "  -y \\\n",
        "  -framerate 1 \\\n",
        "  -i %03d.png \\\n",
        "  -r 6 \\\n",
        "  -vf format=yuv444p10le \\\n",
        "  -vcodec libx265 \\\n",
        "  -crf 20 \\\n",
        "  -tag:v hvc1 \\\n",
        "  -color_primaries bt2020 \\\n",
        "  -color_trc smpte2084 \\\n",
        "  -colorspace bt2020nc \\\n",
        "  -color_range tv \\\n",
        "  hdr_6fps.mov"
      ]
    }
  ],
  "metadata": {
    "colab": {
      "provenance": [],
      "toc_visible": true
    },
    "kernelspec": {
      "display_name": "Python 3",
      "name": "python3"
    },
    "language_info": {
      "name": "python"
    }
  },
  "nbformat": 4,
  "nbformat_minor": 0
}
